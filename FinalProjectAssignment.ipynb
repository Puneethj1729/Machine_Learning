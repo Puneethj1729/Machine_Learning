{
 "cells": [
  {
   "cell_type": "code",
   "execution_count": 1,
   "metadata": {},
   "outputs": [
    {
     "ename": "SyntaxError",
     "evalue": "EOL while scanning string literal (<ipython-input-1-566bce259a5a>, line 5)",
     "output_type": "error",
     "traceback": [
      "\u001b[1;36m  File \u001b[1;32m\"<ipython-input-1-566bce259a5a>\"\u001b[1;36m, line \u001b[1;32m5\u001b[0m\n\u001b[1;33m    We'll be using the \"mammographic masses\" public dataset from the UCI repository (source: https://archive.ics.uci.edu/ml/datasets/Mammographic+Mass)\u001b[0m\n\u001b[1;37m                                                                                                                                                       ^\u001b[0m\n\u001b[1;31mSyntaxError\u001b[0m\u001b[1;31m:\u001b[0m EOL while scanning string literal\n"
     ]
    }
   ],
   "source": [
    "# Final Project\n",
    "\n",
    "## Predict whether a mammogram mass is benign or malignant\n",
    "\n",
    "We'll be using the \"mammographic masses\" public dataset from the UCI repository (source: https://archive.ics.uci.edu/ml/datasets/Mammographic+Mass)\n",
    "\n",
    "This data contains 961 instances of masses detected in mammograms, and contains the following attributes:\n",
    "\n",
    "\n",
    "   1. BI-RADS assessment: 1 to 5 (ordinal)  \n",
    "   2. Age: patient's age in years (integer)\n",
    "   3. Shape: mass shape: round=1 oval=2 lobular=3 irregular=4 (nominal)\n",
    "   4. Margin: mass margin: circumscribed=1 microlobulated=2 obscured=3 ill-defined=4 spiculated=5 (nominal)\n",
    "   5. Density: mass density high=1 iso=2 low=3 fat-containing=4 (ordinal)\n",
    "   6. Severity: benign=0 or malignant=1 (binominal)\n",
    "   \n",
    "BI-RADS is an assesment of how confident the severity classification is; it is not a \"predictive\" attribute and so we will discard it. The age, shape, margin, and density attributes are the features that we will build our model with, and \"severity\" is the classification we will attempt to predict based on those attributes.\n",
    "\n",
    "Although \"shape\" and \"margin\" are nominal data types, which sklearn typically doesn't deal with well, they are close enough to ordinal that we shouldn't just discard them. The \"shape\" for example is ordered increasingly from round to irregular.\n",
    "\n",
    "A lot of unnecessary anguish and surgery arises from false positives arising from mammogram results. If we can build a better way to interpret them through supervised machine learning, it could improve a lot of lives.\n",
    "\n",
    "## Your assignment\n",
    "\n",
    "Apply several different supervised machine learning techniques to this data set, and see which one yields the highest accuracy as measured with K-Fold cross validation (K=10). Apply:\n",
    "\n",
    "* Decision tree\n",
    "* Random forest\n",
    "* KNN\n",
    "* Naive Bayes\n",
    "* SVM\n",
    "* Logistic Regression\n",
    "* And, as a bonus challenge, a neural network using Keras.\n",
    "\n",
    "The data needs to be cleaned; many rows contain missing data, and there may be erroneous data identifiable as outliers as well.\n",
    "\n",
    "Remember some techniques such as SVM also require the input data to be normalized first.\n",
    "\n",
    "Many techniques also have \"hyperparameters\" that need to be tuned. Once you identify a promising approach, see if you can make it even better by tuning its hyperparameters.\n",
    "\n",
    "I was able to achieve over 80% accuracy - can you beat that?\n",
    "\n",
    "Below I've set up an outline of a notebook for this project, with some guidance and hints. If you're up for a real challenge, try doing this project from scratch in a new, clean notebook!\n"
   ]
  },
  {
   "cell_type": "markdown",
   "metadata": {},
   "source": [
    "## Let's begin: prepare your data\n",
    "\n",
    "Start by importing the mammographic_masses.data.txt file into a Pandas dataframe (hint: use read_csv) and take a look at it."
   ]
  },
  {
   "cell_type": "code",
   "execution_count": 4,
   "metadata": {},
   "outputs": [
    {
     "data": {
      "text/plain": [
       "(960, 6)"
      ]
     },
     "execution_count": 4,
     "metadata": {},
     "output_type": "execute_result"
    }
   ],
   "source": [
    "import pandas as pd\n",
    "data=pd.read_csv('mammographic_masses.data.txt')\n",
    "data.shape"
   ]
  },
  {
   "cell_type": "markdown",
   "metadata": {},
   "source": [
    "Make sure you use the optional parmaters in read_csv to convert missing data (indicated by a ?) into NaN, and to add the appropriate column names (BI_RADS, age, shape, margin, density, and severity):"
   ]
  },
  {
   "cell_type": "code",
   "execution_count": 5,
   "metadata": {},
   "outputs": [
    {
     "data": {
      "text/html": [
       "<div>\n",
       "<style scoped>\n",
       "    .dataframe tbody tr th:only-of-type {\n",
       "        vertical-align: middle;\n",
       "    }\n",
       "\n",
       "    .dataframe tbody tr th {\n",
       "        vertical-align: top;\n",
       "    }\n",
       "\n",
       "    .dataframe thead th {\n",
       "        text-align: right;\n",
       "    }\n",
       "</style>\n",
       "<table border=\"1\" class=\"dataframe\">\n",
       "  <thead>\n",
       "    <tr style=\"text-align: right;\">\n",
       "      <th></th>\n",
       "      <th>BI-RADS</th>\n",
       "      <th>age</th>\n",
       "      <th>shape</th>\n",
       "      <th>margin</th>\n",
       "      <th>density</th>\n",
       "      <th>severity</th>\n",
       "    </tr>\n",
       "  </thead>\n",
       "  <tbody>\n",
       "    <tr>\n",
       "      <th>0</th>\n",
       "      <td>5.0</td>\n",
       "      <td>67.0</td>\n",
       "      <td>3.0</td>\n",
       "      <td>5.0</td>\n",
       "      <td>3.0</td>\n",
       "      <td>1</td>\n",
       "    </tr>\n",
       "    <tr>\n",
       "      <th>1</th>\n",
       "      <td>4.0</td>\n",
       "      <td>43.0</td>\n",
       "      <td>1.0</td>\n",
       "      <td>1.0</td>\n",
       "      <td>NaN</td>\n",
       "      <td>1</td>\n",
       "    </tr>\n",
       "    <tr>\n",
       "      <th>2</th>\n",
       "      <td>5.0</td>\n",
       "      <td>58.0</td>\n",
       "      <td>4.0</td>\n",
       "      <td>5.0</td>\n",
       "      <td>3.0</td>\n",
       "      <td>1</td>\n",
       "    </tr>\n",
       "    <tr>\n",
       "      <th>3</th>\n",
       "      <td>4.0</td>\n",
       "      <td>28.0</td>\n",
       "      <td>1.0</td>\n",
       "      <td>1.0</td>\n",
       "      <td>3.0</td>\n",
       "      <td>0</td>\n",
       "    </tr>\n",
       "    <tr>\n",
       "      <th>4</th>\n",
       "      <td>5.0</td>\n",
       "      <td>74.0</td>\n",
       "      <td>1.0</td>\n",
       "      <td>5.0</td>\n",
       "      <td>NaN</td>\n",
       "      <td>1</td>\n",
       "    </tr>\n",
       "  </tbody>\n",
       "</table>\n",
       "</div>"
      ],
      "text/plain": [
       "   BI-RADS   age  shape  margin  density  severity\n",
       "0      5.0  67.0    3.0     5.0      3.0         1\n",
       "1      4.0  43.0    1.0     1.0      NaN         1\n",
       "2      5.0  58.0    4.0     5.0      3.0         1\n",
       "3      4.0  28.0    1.0     1.0      3.0         0\n",
       "4      5.0  74.0    1.0     5.0      NaN         1"
      ]
     },
     "execution_count": 5,
     "metadata": {},
     "output_type": "execute_result"
    }
   ],
   "source": [
    "data=pd.read_csv('mammographic_masses.data.txt',na_values=['?'],names=['BI-RADS', 'age', 'shape', 'margin', 'density', 'severity'])\n",
    "data.head()"
   ]
  },
  {
   "cell_type": "markdown",
   "metadata": {},
   "source": [
    "Evaluate whether the data needs cleaning; your model is only as good as the data it's given. Hint: use describe() on the dataframe."
   ]
  },
  {
   "cell_type": "code",
   "execution_count": 6,
   "metadata": {},
   "outputs": [
    {
     "data": {
      "text/html": [
       "<div>\n",
       "<style scoped>\n",
       "    .dataframe tbody tr th:only-of-type {\n",
       "        vertical-align: middle;\n",
       "    }\n",
       "\n",
       "    .dataframe tbody tr th {\n",
       "        vertical-align: top;\n",
       "    }\n",
       "\n",
       "    .dataframe thead th {\n",
       "        text-align: right;\n",
       "    }\n",
       "</style>\n",
       "<table border=\"1\" class=\"dataframe\">\n",
       "  <thead>\n",
       "    <tr style=\"text-align: right;\">\n",
       "      <th></th>\n",
       "      <th>BI-RADS</th>\n",
       "      <th>age</th>\n",
       "      <th>shape</th>\n",
       "      <th>margin</th>\n",
       "      <th>density</th>\n",
       "      <th>severity</th>\n",
       "    </tr>\n",
       "  </thead>\n",
       "  <tbody>\n",
       "    <tr>\n",
       "      <th>count</th>\n",
       "      <td>959.000000</td>\n",
       "      <td>956.000000</td>\n",
       "      <td>930.000000</td>\n",
       "      <td>913.000000</td>\n",
       "      <td>885.000000</td>\n",
       "      <td>961.000000</td>\n",
       "    </tr>\n",
       "    <tr>\n",
       "      <th>mean</th>\n",
       "      <td>4.348279</td>\n",
       "      <td>55.487448</td>\n",
       "      <td>2.721505</td>\n",
       "      <td>2.796276</td>\n",
       "      <td>2.910734</td>\n",
       "      <td>0.463059</td>\n",
       "    </tr>\n",
       "    <tr>\n",
       "      <th>std</th>\n",
       "      <td>1.783031</td>\n",
       "      <td>14.480131</td>\n",
       "      <td>1.242792</td>\n",
       "      <td>1.566546</td>\n",
       "      <td>0.380444</td>\n",
       "      <td>0.498893</td>\n",
       "    </tr>\n",
       "    <tr>\n",
       "      <th>min</th>\n",
       "      <td>0.000000</td>\n",
       "      <td>18.000000</td>\n",
       "      <td>1.000000</td>\n",
       "      <td>1.000000</td>\n",
       "      <td>1.000000</td>\n",
       "      <td>0.000000</td>\n",
       "    </tr>\n",
       "    <tr>\n",
       "      <th>25%</th>\n",
       "      <td>4.000000</td>\n",
       "      <td>45.000000</td>\n",
       "      <td>2.000000</td>\n",
       "      <td>1.000000</td>\n",
       "      <td>3.000000</td>\n",
       "      <td>0.000000</td>\n",
       "    </tr>\n",
       "    <tr>\n",
       "      <th>50%</th>\n",
       "      <td>4.000000</td>\n",
       "      <td>57.000000</td>\n",
       "      <td>3.000000</td>\n",
       "      <td>3.000000</td>\n",
       "      <td>3.000000</td>\n",
       "      <td>0.000000</td>\n",
       "    </tr>\n",
       "    <tr>\n",
       "      <th>75%</th>\n",
       "      <td>5.000000</td>\n",
       "      <td>66.000000</td>\n",
       "      <td>4.000000</td>\n",
       "      <td>4.000000</td>\n",
       "      <td>3.000000</td>\n",
       "      <td>1.000000</td>\n",
       "    </tr>\n",
       "    <tr>\n",
       "      <th>max</th>\n",
       "      <td>55.000000</td>\n",
       "      <td>96.000000</td>\n",
       "      <td>4.000000</td>\n",
       "      <td>5.000000</td>\n",
       "      <td>4.000000</td>\n",
       "      <td>1.000000</td>\n",
       "    </tr>\n",
       "  </tbody>\n",
       "</table>\n",
       "</div>"
      ],
      "text/plain": [
       "          BI-RADS         age       shape      margin     density    severity\n",
       "count  959.000000  956.000000  930.000000  913.000000  885.000000  961.000000\n",
       "mean     4.348279   55.487448    2.721505    2.796276    2.910734    0.463059\n",
       "std      1.783031   14.480131    1.242792    1.566546    0.380444    0.498893\n",
       "min      0.000000   18.000000    1.000000    1.000000    1.000000    0.000000\n",
       "25%      4.000000   45.000000    2.000000    1.000000    3.000000    0.000000\n",
       "50%      4.000000   57.000000    3.000000    3.000000    3.000000    0.000000\n",
       "75%      5.000000   66.000000    4.000000    4.000000    3.000000    1.000000\n",
       "max     55.000000   96.000000    4.000000    5.000000    4.000000    1.000000"
      ]
     },
     "execution_count": 6,
     "metadata": {},
     "output_type": "execute_result"
    }
   ],
   "source": [
    "data.describe()"
   ]
  },
  {
   "cell_type": "markdown",
   "metadata": {},
   "source": [
    "There are quite a few missing values in the data set. Before we just drop every row that's missing data, let's make sure we don't bias our data in doing so. Does there appear to be any sort of correlation to what sort of data has missing fields? If there were, we'd have to try and go back and fill that data in."
   ]
  },
  {
   "cell_type": "code",
   "execution_count": 7,
   "metadata": {},
   "outputs": [
    {
     "data": {
      "text/html": [
       "<div>\n",
       "<style scoped>\n",
       "    .dataframe tbody tr th:only-of-type {\n",
       "        vertical-align: middle;\n",
       "    }\n",
       "\n",
       "    .dataframe tbody tr th {\n",
       "        vertical-align: top;\n",
       "    }\n",
       "\n",
       "    .dataframe thead th {\n",
       "        text-align: right;\n",
       "    }\n",
       "</style>\n",
       "<table border=\"1\" class=\"dataframe\">\n",
       "  <thead>\n",
       "    <tr style=\"text-align: right;\">\n",
       "      <th></th>\n",
       "      <th>BI-RADS</th>\n",
       "      <th>age</th>\n",
       "      <th>shape</th>\n",
       "      <th>margin</th>\n",
       "      <th>density</th>\n",
       "      <th>severity</th>\n",
       "    </tr>\n",
       "  </thead>\n",
       "  <tbody>\n",
       "    <tr>\n",
       "      <th>1</th>\n",
       "      <td>4.0</td>\n",
       "      <td>43.0</td>\n",
       "      <td>1.0</td>\n",
       "      <td>1.0</td>\n",
       "      <td>NaN</td>\n",
       "      <td>1</td>\n",
       "    </tr>\n",
       "    <tr>\n",
       "      <th>4</th>\n",
       "      <td>5.0</td>\n",
       "      <td>74.0</td>\n",
       "      <td>1.0</td>\n",
       "      <td>5.0</td>\n",
       "      <td>NaN</td>\n",
       "      <td>1</td>\n",
       "    </tr>\n",
       "    <tr>\n",
       "      <th>5</th>\n",
       "      <td>4.0</td>\n",
       "      <td>65.0</td>\n",
       "      <td>1.0</td>\n",
       "      <td>NaN</td>\n",
       "      <td>3.0</td>\n",
       "      <td>0</td>\n",
       "    </tr>\n",
       "    <tr>\n",
       "      <th>6</th>\n",
       "      <td>4.0</td>\n",
       "      <td>70.0</td>\n",
       "      <td>NaN</td>\n",
       "      <td>NaN</td>\n",
       "      <td>3.0</td>\n",
       "      <td>0</td>\n",
       "    </tr>\n",
       "    <tr>\n",
       "      <th>7</th>\n",
       "      <td>5.0</td>\n",
       "      <td>42.0</td>\n",
       "      <td>1.0</td>\n",
       "      <td>NaN</td>\n",
       "      <td>3.0</td>\n",
       "      <td>0</td>\n",
       "    </tr>\n",
       "    <tr>\n",
       "      <th>...</th>\n",
       "      <td>...</td>\n",
       "      <td>...</td>\n",
       "      <td>...</td>\n",
       "      <td>...</td>\n",
       "      <td>...</td>\n",
       "      <td>...</td>\n",
       "    </tr>\n",
       "    <tr>\n",
       "      <th>778</th>\n",
       "      <td>4.0</td>\n",
       "      <td>60.0</td>\n",
       "      <td>NaN</td>\n",
       "      <td>4.0</td>\n",
       "      <td>3.0</td>\n",
       "      <td>0</td>\n",
       "    </tr>\n",
       "    <tr>\n",
       "      <th>819</th>\n",
       "      <td>4.0</td>\n",
       "      <td>35.0</td>\n",
       "      <td>3.0</td>\n",
       "      <td>NaN</td>\n",
       "      <td>2.0</td>\n",
       "      <td>0</td>\n",
       "    </tr>\n",
       "    <tr>\n",
       "      <th>824</th>\n",
       "      <td>6.0</td>\n",
       "      <td>40.0</td>\n",
       "      <td>NaN</td>\n",
       "      <td>3.0</td>\n",
       "      <td>4.0</td>\n",
       "      <td>1</td>\n",
       "    </tr>\n",
       "    <tr>\n",
       "      <th>884</th>\n",
       "      <td>5.0</td>\n",
       "      <td>NaN</td>\n",
       "      <td>4.0</td>\n",
       "      <td>4.0</td>\n",
       "      <td>3.0</td>\n",
       "      <td>1</td>\n",
       "    </tr>\n",
       "    <tr>\n",
       "      <th>923</th>\n",
       "      <td>5.0</td>\n",
       "      <td>NaN</td>\n",
       "      <td>4.0</td>\n",
       "      <td>3.0</td>\n",
       "      <td>3.0</td>\n",
       "      <td>1</td>\n",
       "    </tr>\n",
       "  </tbody>\n",
       "</table>\n",
       "<p>130 rows × 6 columns</p>\n",
       "</div>"
      ],
      "text/plain": [
       "     BI-RADS   age  shape  margin  density  severity\n",
       "1        4.0  43.0    1.0     1.0      NaN         1\n",
       "4        5.0  74.0    1.0     5.0      NaN         1\n",
       "5        4.0  65.0    1.0     NaN      3.0         0\n",
       "6        4.0  70.0    NaN     NaN      3.0         0\n",
       "7        5.0  42.0    1.0     NaN      3.0         0\n",
       "..       ...   ...    ...     ...      ...       ...\n",
       "778      4.0  60.0    NaN     4.0      3.0         0\n",
       "819      4.0  35.0    3.0     NaN      2.0         0\n",
       "824      6.0  40.0    NaN     3.0      4.0         1\n",
       "884      5.0   NaN    4.0     4.0      3.0         1\n",
       "923      5.0   NaN    4.0     3.0      3.0         1\n",
       "\n",
       "[130 rows x 6 columns]"
      ]
     },
     "execution_count": 7,
     "metadata": {},
     "output_type": "execute_result"
    }
   ],
   "source": [
    "data.loc[(data['age'].isnull())|(data['shape'].isnull())|(data['margin'].isnull())|(data['density'].isnull())]"
   ]
  },
  {
   "cell_type": "markdown",
   "metadata": {},
   "source": [
    "If the missing data seems randomly distributed, go ahead and drop rows with missing data. Hint: use dropna()."
   ]
  },
  {
   "cell_type": "code",
   "execution_count": 8,
   "metadata": {},
   "outputs": [
    {
     "data": {
      "text/html": [
       "<div>\n",
       "<style scoped>\n",
       "    .dataframe tbody tr th:only-of-type {\n",
       "        vertical-align: middle;\n",
       "    }\n",
       "\n",
       "    .dataframe tbody tr th {\n",
       "        vertical-align: top;\n",
       "    }\n",
       "\n",
       "    .dataframe thead th {\n",
       "        text-align: right;\n",
       "    }\n",
       "</style>\n",
       "<table border=\"1\" class=\"dataframe\">\n",
       "  <thead>\n",
       "    <tr style=\"text-align: right;\">\n",
       "      <th></th>\n",
       "      <th>BI-RADS</th>\n",
       "      <th>age</th>\n",
       "      <th>shape</th>\n",
       "      <th>margin</th>\n",
       "      <th>density</th>\n",
       "      <th>severity</th>\n",
       "    </tr>\n",
       "  </thead>\n",
       "  <tbody>\n",
       "    <tr>\n",
       "      <th>count</th>\n",
       "      <td>830.000000</td>\n",
       "      <td>830.000000</td>\n",
       "      <td>830.000000</td>\n",
       "      <td>830.000000</td>\n",
       "      <td>830.000000</td>\n",
       "      <td>830.000000</td>\n",
       "    </tr>\n",
       "    <tr>\n",
       "      <th>mean</th>\n",
       "      <td>4.393976</td>\n",
       "      <td>55.781928</td>\n",
       "      <td>2.781928</td>\n",
       "      <td>2.813253</td>\n",
       "      <td>2.915663</td>\n",
       "      <td>0.485542</td>\n",
       "    </tr>\n",
       "    <tr>\n",
       "      <th>std</th>\n",
       "      <td>1.888371</td>\n",
       "      <td>14.671782</td>\n",
       "      <td>1.242361</td>\n",
       "      <td>1.567175</td>\n",
       "      <td>0.350936</td>\n",
       "      <td>0.500092</td>\n",
       "    </tr>\n",
       "    <tr>\n",
       "      <th>min</th>\n",
       "      <td>0.000000</td>\n",
       "      <td>18.000000</td>\n",
       "      <td>1.000000</td>\n",
       "      <td>1.000000</td>\n",
       "      <td>1.000000</td>\n",
       "      <td>0.000000</td>\n",
       "    </tr>\n",
       "    <tr>\n",
       "      <th>25%</th>\n",
       "      <td>4.000000</td>\n",
       "      <td>46.000000</td>\n",
       "      <td>2.000000</td>\n",
       "      <td>1.000000</td>\n",
       "      <td>3.000000</td>\n",
       "      <td>0.000000</td>\n",
       "    </tr>\n",
       "    <tr>\n",
       "      <th>50%</th>\n",
       "      <td>4.000000</td>\n",
       "      <td>57.000000</td>\n",
       "      <td>3.000000</td>\n",
       "      <td>3.000000</td>\n",
       "      <td>3.000000</td>\n",
       "      <td>0.000000</td>\n",
       "    </tr>\n",
       "    <tr>\n",
       "      <th>75%</th>\n",
       "      <td>5.000000</td>\n",
       "      <td>66.000000</td>\n",
       "      <td>4.000000</td>\n",
       "      <td>4.000000</td>\n",
       "      <td>3.000000</td>\n",
       "      <td>1.000000</td>\n",
       "    </tr>\n",
       "    <tr>\n",
       "      <th>max</th>\n",
       "      <td>55.000000</td>\n",
       "      <td>96.000000</td>\n",
       "      <td>4.000000</td>\n",
       "      <td>5.000000</td>\n",
       "      <td>4.000000</td>\n",
       "      <td>1.000000</td>\n",
       "    </tr>\n",
       "  </tbody>\n",
       "</table>\n",
       "</div>"
      ],
      "text/plain": [
       "          BI-RADS         age       shape      margin     density    severity\n",
       "count  830.000000  830.000000  830.000000  830.000000  830.000000  830.000000\n",
       "mean     4.393976   55.781928    2.781928    2.813253    2.915663    0.485542\n",
       "std      1.888371   14.671782    1.242361    1.567175    0.350936    0.500092\n",
       "min      0.000000   18.000000    1.000000    1.000000    1.000000    0.000000\n",
       "25%      4.000000   46.000000    2.000000    1.000000    3.000000    0.000000\n",
       "50%      4.000000   57.000000    3.000000    3.000000    3.000000    0.000000\n",
       "75%      5.000000   66.000000    4.000000    4.000000    3.000000    1.000000\n",
       "max     55.000000   96.000000    4.000000    5.000000    4.000000    1.000000"
      ]
     },
     "execution_count": 8,
     "metadata": {},
     "output_type": "execute_result"
    }
   ],
   "source": [
    "data.dropna(inplace=True)\n",
    "data.describe()"
   ]
  },
  {
   "cell_type": "markdown",
   "metadata": {
    "collapsed": true
   },
   "source": [
    "Next you'll need to convert the Pandas dataframes into numpy arrays that can be used by scikit_learn. Create an array that extracts only the feature data we want to work with (age, shape, margin, and density) and another array that contains the classes (severity). You'll also need an array of the feature name labels."
   ]
  },
  {
   "cell_type": "code",
   "execution_count": 9,
   "metadata": {},
   "outputs": [
    {
     "data": {
      "text/plain": [
       "array([[67.,  3.,  5.,  3.],\n",
       "       [58.,  4.,  5.,  3.],\n",
       "       [28.,  1.,  1.,  3.],\n",
       "       ...,\n",
       "       [64.,  4.,  5.,  3.],\n",
       "       [66.,  4.,  5.,  3.],\n",
       "       [62.,  3.,  3.,  3.]])"
      ]
     },
     "execution_count": 9,
     "metadata": {},
     "output_type": "execute_result"
    }
   ],
   "source": [
    "all_features=data[['age','shape','margin','density']].values\n",
    "all_classes=data['severity'].values\n",
    "feature_names=['age','shape','margin','density']\n",
    "all_features"
   ]
  },
  {
   "cell_type": "markdown",
   "metadata": {},
   "source": [
    "Some of our models require the input data to be normalized, so go ahead and normalize the attribute data. Hint: use preprocessing.StandardScaler()."
   ]
  },
  {
   "cell_type": "code",
   "execution_count": 10,
   "metadata": {},
   "outputs": [
    {
     "data": {
      "text/plain": [
       "array([[ 0.7650629 ,  0.17563638,  1.39618483,  0.24046607],\n",
       "       [ 0.15127063,  0.98104077,  1.39618483,  0.24046607],\n",
       "       [-1.89470363, -1.43517241, -1.157718  ,  0.24046607],\n",
       "       ...,\n",
       "       [ 0.56046548,  0.98104077,  1.39618483,  0.24046607],\n",
       "       [ 0.69686376,  0.98104077,  1.39618483,  0.24046607],\n",
       "       [ 0.42406719,  0.17563638,  0.11923341,  0.24046607]])"
      ]
     },
     "execution_count": 10,
     "metadata": {},
     "output_type": "execute_result"
    }
   ],
   "source": [
    "from sklearn.preprocessing import StandardScaler\n",
    "all_features_scaled=StandardScaler().fit_transform(all_features)\n",
    "all_features_scaled"
   ]
  },
  {
   "cell_type": "markdown",
   "metadata": {},
   "source": [
    "## Decision Trees\n",
    "\n",
    "Before moving to K-Fold cross validation and random forests, start by creating a single train/test split of our data. Set aside 75% for training, and 25% for testing."
   ]
  },
  {
   "cell_type": "code",
   "execution_count": 11,
   "metadata": {},
   "outputs": [],
   "source": [
    "import numpy\n",
    "from sklearn.model_selection import train_test_split\n",
    "numpy.random.seed(1234)\n",
    "(x_train,x_test,y_train,y_test)=train_test_split(all_features_scaled,all_classes,train_size=0.75,random_state=1)"
   ]
  },
  {
   "cell_type": "markdown",
   "metadata": {},
   "source": [
    "Now create a DecisionTreeClassifier and fit it to your training data."
   ]
  },
  {
   "cell_type": "code",
   "execution_count": 12,
   "metadata": {},
   "outputs": [
    {
     "data": {
      "text/plain": [
       "DecisionTreeClassifier(random_state=1)"
      ]
     },
     "execution_count": 12,
     "metadata": {},
     "output_type": "execute_result"
    }
   ],
   "source": [
    "from sklearn.tree import DecisionTreeClassifier\n",
    "model=DecisionTreeClassifier(random_state=1)\n",
    "model.fit(x_train,y_train)"
   ]
  },
  {
   "cell_type": "markdown",
   "metadata": {},
   "source": [
    "Measure the accuracy of the resulting decision tree model using your test data."
   ]
  },
  {
   "cell_type": "code",
   "execution_count": 13,
   "metadata": {},
   "outputs": [
    {
     "data": {
      "text/plain": [
       "0.7355769230769231"
      ]
     },
     "execution_count": 13,
     "metadata": {},
     "output_type": "execute_result"
    }
   ],
   "source": [
    "model.score(x_test,y_test)"
   ]
  },
  {
   "cell_type": "markdown",
   "metadata": {},
   "source": [
    "Now instead of a single train/test split, use K-Fold cross validation to get a better measure of your model's accuracy (K=10). Hint: use model_selection.cross_val_score"
   ]
  },
  {
   "cell_type": "code",
   "execution_count": 14,
   "metadata": {},
   "outputs": [
    {
     "data": {
      "text/plain": [
       "0.7373493975903613"
      ]
     },
     "execution_count": 14,
     "metadata": {},
     "output_type": "execute_result"
    }
   ],
   "source": [
    "from sklearn.model_selection import cross_val_score\n",
    "model=DecisionTreeClassifier(random_state=1)\n",
    "cv_scores=cross_val_score(model,all_features_scaled,all_classes,cv=10)\n",
    "cv_scores.mean()"
   ]
  },
  {
   "cell_type": "markdown",
   "metadata": {},
   "source": [
    "Now try a RandomForestClassifier instead. Does it perform better?"
   ]
  },
  {
   "cell_type": "code",
   "execution_count": 15,
   "metadata": {},
   "outputs": [
    {
     "data": {
      "text/plain": [
       "0.7421686746987952"
      ]
     },
     "execution_count": 15,
     "metadata": {},
     "output_type": "execute_result"
    }
   ],
   "source": [
    "from sklearn.ensemble import RandomForestClassifier\n",
    "model=RandomForestClassifier(random_state=1,n_estimators=10)\n",
    "cv_scores=cross_val_score(model,all_features_scaled,all_classes,cv=10)\n",
    "cv_scores.mean()"
   ]
  },
  {
   "cell_type": "markdown",
   "metadata": {},
   "source": [
    "## SVM\n",
    "\n",
    "Next try using svm.SVC with a linear kernel. How does it compare to the decision tree?"
   ]
  },
  {
   "cell_type": "code",
   "execution_count": 16,
   "metadata": {},
   "outputs": [],
   "source": [
    "from sklearn import svm\n",
    "C=1.0\n",
    "model=svm.SVC(kernel='linear',C=C)"
   ]
  },
  {
   "cell_type": "code",
   "execution_count": 17,
   "metadata": {},
   "outputs": [
    {
     "data": {
      "text/plain": [
       "0.7975903614457832"
      ]
     },
     "execution_count": 17,
     "metadata": {},
     "output_type": "execute_result"
    }
   ],
   "source": [
    "cv_scores=cross_val_score(model,all_features_scaled,all_classes,cv=10)\n",
    "cv_scores.mean()"
   ]
  },
  {
   "cell_type": "markdown",
   "metadata": {},
   "source": [
    "## KNN\n",
    "How about K-Nearest-Neighbors? Hint: use neighbors.KNeighborsClassifier - it's a lot easier than implementing KNN from scratch like we did earlier in the course. Start with a K of 10. K is an example of a hyperparameter - a parameter on the model itself which may need to be tuned for best results on your particular data set."
   ]
  },
  {
   "cell_type": "code",
   "execution_count": 18,
   "metadata": {},
   "outputs": [
    {
     "data": {
      "text/plain": [
       "0.7915662650602409"
      ]
     },
     "execution_count": 18,
     "metadata": {},
     "output_type": "execute_result"
    }
   ],
   "source": [
    "from sklearn.neighbors import KNeighborsClassifier\n",
    "k=10\n",
    "model=KNeighborsClassifier(n_neighbors=k)\n",
    "cv_scores=cross_val_score(model,all_features_scaled,all_classes,cv=10)\n",
    "cv_scores.mean()"
   ]
  },
  {
   "cell_type": "markdown",
   "metadata": {},
   "source": [
    "Choosing K is tricky, so we can't discard KNN until we've tried different values of K. Write a for loop to run KNN with K values ranging from 1 to 50 and see if K makes a substantial difference. Make a note of the best performance you could get out of KNN."
   ]
  },
  {
   "cell_type": "code",
   "execution_count": 19,
   "metadata": {},
   "outputs": [
    {
     "name": "stdout",
     "output_type": "stream",
     "text": [
      "1 0.7325301204819278\n",
      "2 0.6903614457831325\n",
      "3 0.7542168674698796\n",
      "4 0.7349397590361446\n",
      "5 0.7710843373493976\n",
      "6 0.7686746987951807\n",
      "7 0.7951807228915662\n",
      "8 0.7771084337349398\n",
      "9 0.7903614457831326\n",
      "10 0.7915662650602409\n",
      "11 0.7891566265060241\n",
      "12 0.783132530120482\n",
      "13 0.7879518072289157\n",
      "14 0.7867469879518072\n",
      "15 0.7867469879518072\n",
      "16 0.7831325301204819\n",
      "17 0.7783132530120482\n",
      "18 0.7783132530120482\n",
      "19 0.7843373493975904\n",
      "20 0.7855421686746988\n",
      "21 0.7879518072289156\n",
      "22 0.7855421686746988\n",
      "23 0.7783132530120481\n",
      "24 0.7783132530120482\n",
      "25 0.7867469879518072\n",
      "26 0.7855421686746988\n",
      "27 0.7855421686746988\n",
      "28 0.7867469879518072\n",
      "29 0.7855421686746988\n",
      "30 0.7903614457831325\n",
      "31 0.7867469879518072\n",
      "32 0.789156626506024\n",
      "33 0.7879518072289156\n",
      "34 0.7867469879518072\n",
      "35 0.7831325301204819\n",
      "36 0.7867469879518072\n",
      "37 0.7843373493975904\n",
      "38 0.7867469879518072\n",
      "39 0.7819277108433734\n",
      "40 0.7843373493975904\n",
      "41 0.780722891566265\n",
      "42 0.7819277108433734\n",
      "43 0.780722891566265\n",
      "44 0.7819277108433734\n",
      "45 0.7831325301204819\n",
      "46 0.7843373493975904\n",
      "47 0.789156626506024\n",
      "48 0.7903614457831325\n",
      "49 0.7915662650602409\n"
     ]
    }
   ],
   "source": [
    "for i in range(1,50):\n",
    "    model=KNeighborsClassifier(n_neighbors=i)\n",
    "    cv_scores=cross_val_score(model,all_features_scaled,all_classes,cv=10)\n",
    "    print(i,cv_scores.mean())"
   ]
  },
  {
   "cell_type": "markdown",
   "metadata": {},
   "source": [
    "## Naive Bayes\n",
    "\n",
    "Now try naive_bayes.MultinomialNB. How does its accuracy stack up? Hint: you'll need to use MinMaxScaler to get the features in the range MultinomialNB requires."
   ]
  },
  {
   "cell_type": "code",
   "execution_count": 20,
   "metadata": {},
   "outputs": [
    {
     "data": {
      "text/plain": [
       "0.7855421686746988"
      ]
     },
     "execution_count": 20,
     "metadata": {},
     "output_type": "execute_result"
    }
   ],
   "source": [
    "from sklearn.naive_bayes import MultinomialNB\n",
    "from sklearn.preprocessing import MinMaxScaler\n",
    "all_features_minmax=MinMaxScaler().fit_transform(all_features)\n",
    "\n",
    "model=MultinomialNB()\n",
    "cv_scores=cross_val_score(model,all_features_minmax,all_classes,cv=10)\n",
    "cv_scores.mean()"
   ]
  },
  {
   "cell_type": "markdown",
   "metadata": {},
   "source": [
    "## Revisiting SVM\n",
    "\n",
    "svm.SVC may perform differently with different kernels. The choice of kernel is an example of a \"hyperparamter.\" Try the rbf, sigmoid, and poly kernels and see what the best-performing kernel is. Do we have a new winner?"
   ]
  },
  {
   "cell_type": "code",
   "execution_count": 21,
   "metadata": {},
   "outputs": [
    {
     "data": {
      "text/plain": [
       "0.8012048192771084"
      ]
     },
     "execution_count": 21,
     "metadata": {},
     "output_type": "execute_result"
    }
   ],
   "source": [
    "C=1.0\n",
    "model=svm.SVC(kernel='rbf',C=C)\n",
    "cv_scores=cross_val_score(model,all_features_scaled,all_classes,cv=10)\n",
    "cv_scores.mean()"
   ]
  },
  {
   "cell_type": "code",
   "execution_count": 22,
   "metadata": {},
   "outputs": [
    {
     "data": {
      "text/plain": [
       "0.7903614457831326"
      ]
     },
     "execution_count": 22,
     "metadata": {},
     "output_type": "execute_result"
    }
   ],
   "source": [
    "C=1.0\n",
    "model=svm.SVC(kernel='poly',C=C)\n",
    "cv_scores=cross_val_score(model,all_features_scaled,all_classes,cv=10)\n",
    "cv_scores.mean()"
   ]
  },
  {
   "cell_type": "code",
   "execution_count": 23,
   "metadata": {},
   "outputs": [
    {
     "data": {
      "text/plain": [
       "0.7457831325301204"
      ]
     },
     "execution_count": 23,
     "metadata": {},
     "output_type": "execute_result"
    }
   ],
   "source": [
    "C=1.0\n",
    "model=svm.SVC(kernel='sigmoid',C=C)\n",
    "cv_scores=cross_val_score(model,all_features_scaled,all_classes,cv=10)\n",
    "cv_scores.mean()"
   ]
  },
  {
   "cell_type": "markdown",
   "metadata": {},
   "source": [
    "## Logistic Regression\n",
    "\n",
    "We've tried all these fancy techniques, but fundamentally this is just a binary classification problem. Try Logisitic Regression, which is a simple way to tackling this sort of thing."
   ]
  },
  {
   "cell_type": "code",
   "execution_count": 24,
   "metadata": {},
   "outputs": [
    {
     "data": {
      "text/plain": [
       "0.8072289156626505"
      ]
     },
     "execution_count": 24,
     "metadata": {},
     "output_type": "execute_result"
    }
   ],
   "source": [
    "from sklearn.linear_model import LogisticRegression\n",
    "model=LogisticRegression()\n",
    "cv_scores=cross_val_score(model,all_features_scaled,all_classes,cv=10)\n",
    "cv_scores.mean()"
   ]
  },
  {
   "cell_type": "markdown",
   "metadata": {},
   "source": [
    "## Neural Networks\n",
    "\n",
    "As a bonus challenge, let's see if an artificial neural network can do even better. You can use Keras to set up a neural network with 1 binary output neuron and see how it performs. Don't be afraid to run a large number of epochs to train the model if necessary."
   ]
  },
  {
   "cell_type": "code",
   "execution_count": 25,
   "metadata": {},
   "outputs": [],
   "source": [
    "from tensorflow.keras.models import Sequential\n",
    "from tensorflow.keras.layers import Dense"
   ]
  },
  {
   "cell_type": "code",
   "execution_count": 26,
   "metadata": {},
   "outputs": [],
   "source": [
    "def create_model():\n",
    "    model=Sequential()\n",
    "    model.add(Dense(6,kernel_initializer='normal',input_dim=4,activation='relu'))\n",
    "    model.add(Dense(1,kernel_initializer='normal',activation='sigmoid'))\n",
    "    model.compile(optimizer='adam',loss='binary_crossentropy',metrics=['accuracy'])\n",
    "    return model"
   ]
  },
  {
   "cell_type": "code",
   "execution_count": 27,
   "metadata": {},
   "outputs": [
    {
     "name": "stdout",
     "output_type": "stream",
     "text": [
      "Epoch 1/10\n",
      "24/24 [==============================] - 1s 4ms/step - loss: 0.6924 - accuracy: 0.5355\n",
      "Epoch 2/10\n",
      "24/24 [==============================] - 0s 3ms/step - loss: 0.6880 - accuracy: 0.7309\n",
      "Epoch 3/10\n",
      "24/24 [==============================] - 0s 3ms/step - loss: 0.6785 - accuracy: 0.7711\n",
      "Epoch 4/10\n",
      "24/24 [==============================] - 0s 4ms/step - loss: 0.6626 - accuracy: 0.7925\n",
      "Epoch 5/10\n",
      "24/24 [==============================] - 0s 4ms/step - loss: 0.6404 - accuracy: 0.8059\n",
      "Epoch 6/10\n",
      "24/24 [==============================] - 0s 3ms/step - loss: 0.6136 - accuracy: 0.8059\n",
      "Epoch 7/10\n",
      "24/24 [==============================] - 0s 3ms/step - loss: 0.5848 - accuracy: 0.8046\n",
      "Epoch 8/10\n",
      "24/24 [==============================] - 0s 3ms/step - loss: 0.5575 - accuracy: 0.8072\n",
      "Epoch 9/10\n",
      "24/24 [==============================] - 0s 3ms/step - loss: 0.5339 - accuracy: 0.8072\n",
      "Epoch 10/10\n",
      "24/24 [==============================] - 0s 4ms/step - loss: 0.5146 - accuracy: 0.8112\n",
      "3/3 [==============================] - 0s 3ms/step - loss: 0.5831 - accuracy: 0.7470\n",
      "Epoch 1/10\n",
      "24/24 [==============================] - 0s 4ms/step - loss: 0.6910 - accuracy: 0.7055\n",
      "Epoch 2/10\n",
      "24/24 [==============================] - 0s 4ms/step - loss: 0.6845 - accuracy: 0.8019\n",
      "Epoch 3/10\n",
      "24/24 [==============================] - 0s 4ms/step - loss: 0.6725 - accuracy: 0.8019\n",
      "Epoch 4/10\n",
      "24/24 [==============================] - 0s 3ms/step - loss: 0.6542 - accuracy: 0.8046\n",
      "Epoch 5/10\n",
      "24/24 [==============================] - 0s 3ms/step - loss: 0.6299 - accuracy: 0.8046\n",
      "Epoch 6/10\n",
      "24/24 [==============================] - 0s 3ms/step - loss: 0.6027 - accuracy: 0.8046\n",
      "Epoch 7/10\n",
      "24/24 [==============================] - 0s 4ms/step - loss: 0.5743 - accuracy: 0.8072\n",
      "Epoch 8/10\n",
      "24/24 [==============================] - 0s 3ms/step - loss: 0.5472 - accuracy: 0.8059\n",
      "Epoch 9/10\n",
      "24/24 [==============================] - 0s 3ms/step - loss: 0.5233 - accuracy: 0.8072\n",
      "Epoch 10/10\n",
      "24/24 [==============================] - 0s 3ms/step - loss: 0.5033 - accuracy: 0.8072\n",
      "3/3 [==============================] - 0s 3ms/step - loss: 0.5106 - accuracy: 0.7711\n",
      "Epoch 1/10\n",
      "24/24 [==============================] - 0s 4ms/step - loss: 0.6890 - accuracy: 0.7818\n",
      "Epoch 2/10\n",
      "24/24 [==============================] - 0s 3ms/step - loss: 0.6829 - accuracy: 0.7938\n",
      "Epoch 3/10\n",
      "24/24 [==============================] - 0s 3ms/step - loss: 0.6722 - accuracy: 0.8019\n",
      "Epoch 4/10\n",
      "24/24 [==============================] - 0s 3ms/step - loss: 0.6551 - accuracy: 0.7992\n",
      "Epoch 5/10\n",
      "24/24 [==============================] - 0s 4ms/step - loss: 0.6326 - accuracy: 0.8019\n",
      "Epoch 6/10\n",
      "24/24 [==============================] - 0s 3ms/step - loss: 0.6061 - accuracy: 0.7952\n",
      "Epoch 7/10\n",
      "24/24 [==============================] - 0s 3ms/step - loss: 0.5789 - accuracy: 0.7938\n",
      "Epoch 8/10\n",
      "24/24 [==============================] - 0s 3ms/step - loss: 0.5524 - accuracy: 0.7952\n",
      "Epoch 9/10\n",
      "24/24 [==============================] - 0s 3ms/step - loss: 0.5291 - accuracy: 0.7965\n",
      "Epoch 10/10\n",
      "24/24 [==============================] - 0s 3ms/step - loss: 0.5099 - accuracy: 0.7965\n",
      "3/3 [==============================] - 0s 3ms/step - loss: 0.4427 - accuracy: 0.8795\n",
      "Epoch 1/10\n",
      "24/24 [==============================] - 0s 4ms/step - loss: 0.6923 - accuracy: 0.4859\n",
      "Epoch 2/10\n",
      "24/24 [==============================] - 0s 3ms/step - loss: 0.6856 - accuracy: 0.5221\n",
      "Epoch 3/10\n",
      "24/24 [==============================] - 0s 4ms/step - loss: 0.6767 - accuracy: 0.5234\n",
      "Epoch 4/10\n",
      "24/24 [==============================] - 0s 3ms/step - loss: 0.6638 - accuracy: 0.5234\n",
      "Epoch 5/10\n",
      "24/24 [==============================] - 0s 3ms/step - loss: 0.6471 - accuracy: 0.5234\n",
      "Epoch 6/10\n",
      "24/24 [==============================] - 0s 3ms/step - loss: 0.6278 - accuracy: 0.5234\n",
      "Epoch 7/10\n",
      "24/24 [==============================] - 0s 3ms/step - loss: 0.6082 - accuracy: 0.7336\n",
      "Epoch 8/10\n",
      "24/24 [==============================] - 0s 3ms/step - loss: 0.5895 - accuracy: 0.7858\n",
      "Epoch 9/10\n",
      "24/24 [==============================] - 0s 3ms/step - loss: 0.5737 - accuracy: 0.7912\n",
      "Epoch 10/10\n",
      "24/24 [==============================] - 0s 3ms/step - loss: 0.5605 - accuracy: 0.7965\n",
      "3/3 [==============================] - 0s 3ms/step - loss: 0.5825 - accuracy: 0.8072\n",
      "Epoch 1/10\n",
      "24/24 [==============================] - 0s 3ms/step - loss: 0.6915 - accuracy: 0.6305\n",
      "Epoch 2/10\n",
      "24/24 [==============================] - 0s 4ms/step - loss: 0.6866 - accuracy: 0.7671\n",
      "Epoch 3/10\n",
      "24/24 [==============================] - 0s 3ms/step - loss: 0.6772 - accuracy: 0.7912\n",
      "Epoch 4/10\n",
      "24/24 [==============================] - 0s 3ms/step - loss: 0.6614 - accuracy: 0.7992\n",
      "Epoch 5/10\n",
      "24/24 [==============================] - 0s 3ms/step - loss: 0.6395 - accuracy: 0.7992\n",
      "Epoch 6/10\n",
      "24/24 [==============================] - 0s 3ms/step - loss: 0.6137 - accuracy: 0.7979\n",
      "Epoch 7/10\n",
      "24/24 [==============================] - 0s 3ms/step - loss: 0.5857 - accuracy: 0.7992\n",
      "Epoch 8/10\n",
      "24/24 [==============================] - 0s 4ms/step - loss: 0.5584 - accuracy: 0.7992\n",
      "Epoch 9/10\n",
      "24/24 [==============================] - 0s 3ms/step - loss: 0.5347 - accuracy: 0.7979\n",
      "Epoch 10/10\n",
      "24/24 [==============================] - 0s 3ms/step - loss: 0.5143 - accuracy: 0.7979\n",
      "WARNING:tensorflow:5 out of the last 13 calls to <function Model.make_test_function.<locals>.test_function at 0x000001F4BAD351F0> triggered tf.function retracing. Tracing is expensive and the excessive number of tracings could be due to (1) creating @tf.function repeatedly in a loop, (2) passing tensors with different shapes, (3) passing Python objects instead of tensors. For (1), please define your @tf.function outside of the loop. For (2), @tf.function has experimental_relax_shapes=True option that relaxes argument shapes that can avoid unnecessary retracing. For (3), please refer to https://www.tensorflow.org/guide/function#controlling_retracing and https://www.tensorflow.org/api_docs/python/tf/function for  more details.\n",
      "3/3 [==============================] - 0s 4ms/step - loss: 0.4364 - accuracy: 0.8675\n",
      "Epoch 1/10\n",
      "24/24 [==============================] - 0s 4ms/step - loss: 0.6917 - accuracy: 0.5850\n",
      "Epoch 2/10\n",
      "24/24 [==============================] - 0s 4ms/step - loss: 0.6870 - accuracy: 0.7871\n",
      "Epoch 3/10\n",
      "24/24 [==============================] - 0s 3ms/step - loss: 0.6780 - accuracy: 0.8086\n",
      "Epoch 4/10\n",
      "24/24 [==============================] - 0s 3ms/step - loss: 0.6628 - accuracy: 0.8099\n",
      "Epoch 5/10\n",
      "24/24 [==============================] - 0s 3ms/step - loss: 0.6403 - accuracy: 0.8126\n",
      "Epoch 6/10\n",
      "24/24 [==============================] - 0s 3ms/step - loss: 0.6131 - accuracy: 0.8126\n",
      "Epoch 7/10\n",
      "24/24 [==============================] - 0s 3ms/step - loss: 0.5826 - accuracy: 0.8126\n",
      "Epoch 8/10\n",
      "24/24 [==============================] - 0s 3ms/step - loss: 0.5537 - accuracy: 0.8086\n",
      "Epoch 9/10\n",
      "24/24 [==============================] - 0s 4ms/step - loss: 0.5271 - accuracy: 0.8099\n",
      "Epoch 10/10\n",
      "24/24 [==============================] - 0s 3ms/step - loss: 0.5047 - accuracy: 0.8126\n",
      "WARNING:tensorflow:5 out of the last 13 calls to <function Model.make_test_function.<locals>.test_function at 0x000001F4BAD350D0> triggered tf.function retracing. Tracing is expensive and the excessive number of tracings could be due to (1) creating @tf.function repeatedly in a loop, (2) passing tensors with different shapes, (3) passing Python objects instead of tensors. For (1), please define your @tf.function outside of the loop. For (2), @tf.function has experimental_relax_shapes=True option that relaxes argument shapes that can avoid unnecessary retracing. For (3), please refer to https://www.tensorflow.org/guide/function#controlling_retracing and https://www.tensorflow.org/api_docs/python/tf/function for  more details.\n",
      "3/3 [==============================] - 0s 3ms/step - loss: 0.5323 - accuracy: 0.7470\n",
      "Epoch 1/10\n",
      "24/24 [==============================] - 0s 3ms/step - loss: 0.6920 - accuracy: 0.6372\n",
      "Epoch 2/10\n",
      "24/24 [==============================] - 0s 3ms/step - loss: 0.6867 - accuracy: 0.7697\n",
      "Epoch 3/10\n",
      "24/24 [==============================] - 0s 3ms/step - loss: 0.6779 - accuracy: 0.7858\n",
      "Epoch 4/10\n"
     ]
    },
    {
     "name": "stdout",
     "output_type": "stream",
     "text": [
      "24/24 [==============================] - 0s 3ms/step - loss: 0.6636 - accuracy: 0.7912\n",
      "Epoch 5/10\n",
      "24/24 [==============================] - 0s 3ms/step - loss: 0.6440 - accuracy: 0.8032\n",
      "Epoch 6/10\n",
      "24/24 [==============================] - 0s 3ms/step - loss: 0.6203 - accuracy: 0.8072\n",
      "Epoch 7/10\n",
      "24/24 [==============================] - 0s 3ms/step - loss: 0.5945 - accuracy: 0.8099\n",
      "Epoch 8/10\n",
      "24/24 [==============================] - 0s 3ms/step - loss: 0.5672 - accuracy: 0.8086\n",
      "Epoch 9/10\n",
      "24/24 [==============================] - 0s 3ms/step - loss: 0.5425 - accuracy: 0.8072\n",
      "Epoch 10/10\n",
      "24/24 [==============================] - 0s 3ms/step - loss: 0.5200 - accuracy: 0.8072\n",
      "3/3 [==============================] - 0s 3ms/step - loss: 0.5650 - accuracy: 0.7108\n",
      "Epoch 1/10\n",
      "24/24 [==============================] - 0s 4ms/step - loss: 0.6918 - accuracy: 0.6345\n",
      "Epoch 2/10\n",
      "24/24 [==============================] - 0s 3ms/step - loss: 0.6858 - accuracy: 0.7858\n",
      "Epoch 3/10\n",
      "24/24 [==============================] - 0s 3ms/step - loss: 0.6774 - accuracy: 0.7938\n",
      "Epoch 4/10\n",
      "24/24 [==============================] - 0s 3ms/step - loss: 0.6650 - accuracy: 0.7938\n",
      "Epoch 5/10\n",
      "24/24 [==============================] - 0s 3ms/step - loss: 0.6485 - accuracy: 0.7979\n",
      "Epoch 6/10\n",
      "24/24 [==============================] - 0s 3ms/step - loss: 0.6292 - accuracy: 0.8005\n",
      "Epoch 7/10\n",
      "24/24 [==============================] - 0s 3ms/step - loss: 0.6077 - accuracy: 0.8019\n",
      "Epoch 8/10\n",
      "24/24 [==============================] - 0s 3ms/step - loss: 0.5848 - accuracy: 0.8005\n",
      "Epoch 9/10\n",
      "24/24 [==============================] - 0s 3ms/step - loss: 0.5632 - accuracy: 0.8005\n",
      "Epoch 10/10\n",
      "24/24 [==============================] - 0s 3ms/step - loss: 0.5429 - accuracy: 0.8019\n",
      "3/3 [==============================] - 0s 3ms/step - loss: 0.5083 - accuracy: 0.8313\n",
      "Epoch 1/10\n",
      "24/24 [==============================] - 0s 4ms/step - loss: 0.6922 - accuracy: 0.5408\n",
      "Epoch 2/10\n",
      "24/24 [==============================] - 0s 3ms/step - loss: 0.6872 - accuracy: 0.7564\n",
      "Epoch 3/10\n",
      "24/24 [==============================] - 0s 3ms/step - loss: 0.6785 - accuracy: 0.7751\n",
      "Epoch 4/10\n",
      "24/24 [==============================] - 0s 3ms/step - loss: 0.6640 - accuracy: 0.7871\n",
      "Epoch 5/10\n",
      "24/24 [==============================] - 0s 3ms/step - loss: 0.6423 - accuracy: 0.7898\n",
      "Epoch 6/10\n",
      "24/24 [==============================] - 0s 4ms/step - loss: 0.6163 - accuracy: 0.7938\n",
      "Epoch 7/10\n",
      "24/24 [==============================] - 0s 3ms/step - loss: 0.5875 - accuracy: 0.7965\n",
      "Epoch 8/10\n",
      "24/24 [==============================] - 0s 3ms/step - loss: 0.5602 - accuracy: 0.7979\n",
      "Epoch 9/10\n",
      "24/24 [==============================] - 0s 4ms/step - loss: 0.5356 - accuracy: 0.7938\n",
      "Epoch 10/10\n",
      "24/24 [==============================] - 0s 3ms/step - loss: 0.5161 - accuracy: 0.7952\n",
      "3/3 [==============================] - 0s 3ms/step - loss: 0.4686 - accuracy: 0.8675\n",
      "Epoch 1/10\n",
      "24/24 [==============================] - 0s 4ms/step - loss: 0.6924 - accuracy: 0.6011\n",
      "Epoch 2/10\n",
      "24/24 [==============================] - 0s 3ms/step - loss: 0.6885 - accuracy: 0.7925\n",
      "Epoch 3/10\n",
      "24/24 [==============================] - 0s 3ms/step - loss: 0.6803 - accuracy: 0.8019\n",
      "Epoch 4/10\n",
      "24/24 [==============================] - 0s 3ms/step - loss: 0.6657 - accuracy: 0.8046\n",
      "Epoch 5/10\n",
      "24/24 [==============================] - 0s 3ms/step - loss: 0.6448 - accuracy: 0.8059\n",
      "Epoch 6/10\n",
      "24/24 [==============================] - 0s 3ms/step - loss: 0.6193 - accuracy: 0.8086\n",
      "Epoch 7/10\n",
      "24/24 [==============================] - 0s 3ms/step - loss: 0.5905 - accuracy: 0.8099\n",
      "Epoch 8/10\n",
      "24/24 [==============================] - 0s 3ms/step - loss: 0.5602 - accuracy: 0.8112\n",
      "Epoch 9/10\n",
      "24/24 [==============================] - 0s 3ms/step - loss: 0.5329 - accuracy: 0.8099\n",
      "Epoch 10/10\n",
      "24/24 [==============================] - 0s 3ms/step - loss: 0.5095 - accuracy: 0.8086\n",
      "3/3 [==============================] - 0s 3ms/step - loss: 0.5349 - accuracy: 0.7590\n"
     ]
    },
    {
     "data": {
      "text/plain": [
       "0.7987951815128327"
      ]
     },
     "execution_count": 27,
     "metadata": {},
     "output_type": "execute_result"
    }
   ],
   "source": [
    "from tensorflow.keras.wrappers.scikit_learn import KerasClassifier\n",
    "from sklearn.model_selection import cross_val_score\n",
    "estimator=KerasClassifier(build_fn=create_model,epochs=10,verbose=1)\n",
    "cv_scores=cross_val_score(estimator,all_features_scaled,all_classes,cv=10)\n",
    "cv_scores.mean()"
   ]
  },
  {
   "cell_type": "code",
   "execution_count": null,
   "metadata": {},
   "outputs": [],
   "source": []
  },
  {
   "cell_type": "markdown",
   "metadata": {
    "collapsed": true
   },
   "source": [
    "## Do we have a winner?\n",
    "\n",
    "Which model, and which choice of hyperparameters, performed the best? Feel free to share your results!"
   ]
  },
  {
   "cell_type": "code",
   "execution_count": null,
   "metadata": {},
   "outputs": [],
   "source": []
  }
 ],
 "metadata": {
  "kernelspec": {
   "display_name": "tensorflow_kernel",
   "language": "python",
   "name": "tensorflow_kernel"
  },
  "language_info": {
   "codemirror_mode": {
    "name": "ipython",
    "version": 3
   },
   "file_extension": ".py",
   "mimetype": "text/x-python",
   "name": "python",
   "nbconvert_exporter": "python",
   "pygments_lexer": "ipython3",
   "version": "3.8.0"
  }
 },
 "nbformat": 4,
 "nbformat_minor": 2
}
