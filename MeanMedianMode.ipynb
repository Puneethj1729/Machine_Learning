{
 "cells": [
  {
   "cell_type": "markdown",
   "metadata": {},
   "source": [
    "# Mean, Median, Mode, and introducing NumPy"
   ]
  },
  {
   "cell_type": "markdown",
   "metadata": {},
   "source": [
    "## Mean vs. Median"
   ]
  },
  {
   "cell_type": "markdown",
   "metadata": {},
   "source": [
    "Let's create some fake income data, centered around 27,000 with a normal distribution and standard deviation of 15,000, with 10,000 data points. (We'll discuss those terms more later, if you're not familiar with them.)\n",
    "\n",
    "Then, compute the mean (average) - it should be close to 27,000:"
   ]
  },
  {
   "cell_type": "code",
   "execution_count": 2,
   "metadata": {},
   "outputs": [
    {
     "data": {
      "text/plain": [
       "24928.81286180127"
      ]
     },
     "execution_count": 2,
     "metadata": {},
     "output_type": "execute_result"
    }
   ],
   "source": [
    "import numpy as np\n",
    "incomes = np.random.normal(25000, 15000, 10000)\n",
    "np.mean(incomes)"
   ]
  },
  {
   "cell_type": "markdown",
   "metadata": {},
   "source": [
    "We can segment the income data into 50 buckets, and plot it as a histogram:"
   ]
  },
  {
   "cell_type": "code",
   "execution_count": 6,
   "metadata": {},
   "outputs": [
    {
     "data": {
      "image/png": "[encoded data removed]",
      "text/plain": [
       "<Figure size 432x288 with 1 Axes>"
      ]
     },
     "metadata": {
      "needs_background": "light"
     },
     "output_type": "display_data"
    }
   ],
   "source": [
    "%matplotlib inline\n",
    "import matplotlib.pyplot as plt\n",
    "plt.hist(incomes, 50)\n",
    "plt.show()"
   ]
  },
  {
   "cell_type": "markdown",
   "metadata": {},
   "source": [
    "Now compute the median - since we have a nice, even distribution it too should be close to 27,000:"
   ]
  },
  {
   "cell_type": "code",
   "execution_count": 7,
   "metadata": {},
   "outputs": [
    {
     "data": {
      "text/plain": [
       "24800.729233862192"
      ]
     },
     "execution_count": 7,
     "metadata": {},
     "output_type": "execute_result"
    }
   ],
   "source": [
    "np.median(incomes)"
   ]
  },
  {
   "cell_type": "markdown",
   "metadata": {},
   "source": [
    "Now we'll add Jeff Bezos into the mix. Darn income inequality!"
   ]
  },
  {
   "cell_type": "code",
   "execution_count": 8,
   "metadata": {},
   "outputs": [],
   "source": [
    "incomes = np.append(incomes, [1000000000])"
   ]
  },
  {
   "cell_type": "markdown",
   "metadata": {},
   "source": [
    "The median won't change much, but the mean does:"
   ]
  },
  {
   "cell_type": "code",
   "execution_count": 9,
   "metadata": {},
   "outputs": [
    {
     "data": {
      "text/plain": [
       "24801.607808744353"
      ]
     },
     "execution_count": 9,
     "metadata": {},
     "output_type": "execute_result"
    }
   ],
   "source": [
    "np.median(incomes)"
   ]
  },
  {
   "cell_type": "code",
   "execution_count": 10,
   "metadata": {},
   "outputs": [
    {
     "data": {
      "text/plain": [
       "124916.32122967832"
      ]
     },
     "execution_count": 10,
     "metadata": {},
     "output_type": "execute_result"
    }
   ],
   "source": [
    "np.mean(incomes)"
   ]
  },
  {
   "cell_type": "markdown",
   "metadata": {},
   "source": [
    "## Mode"
   ]
  },
  {
   "cell_type": "markdown",
   "metadata": {},
   "source": [
    "Next, let's generate some fake age data for 500 people:"
   ]
  },
  {
   "cell_type": "code",
   "execution_count": 14,
   "metadata": {},
   "outputs": [
    {
     "data": {
      "text/plain": [
       "array([84, 82, 66, 85, 28, 28, 66, 20, 77, 89, 58, 38, 64, 26, 57, 68, 53,\n",
       "       61, 87, 60, 41, 18, 86, 41, 73, 36, 18, 23, 67, 77, 85, 89, 41, 45,\n",
       "       19, 76, 32, 81, 86, 62, 85, 76, 71, 70, 78, 44, 55, 55, 67, 80, 88,\n",
       "       69, 24, 50, 44, 30, 83, 53, 45, 39, 32, 39, 34, 71, 36, 55, 27, 44,\n",
       "       49, 25, 47, 36, 56, 62, 54, 23, 56, 41, 88, 42, 72, 53, 51, 38, 29,\n",
       "       84, 49, 33, 63, 68, 75, 63, 59, 53, 71, 82, 35, 25, 24, 75, 86, 81,\n",
       "       70, 78, 57, 81, 43, 36, 63, 46, 26, 62, 73, 20, 87, 48, 58, 46, 73,\n",
       "       67, 24, 19, 88, 20, 50, 26, 53, 42, 80, 28, 53, 42, 85, 50, 31, 32,\n",
       "       60, 40, 67, 43, 66, 34, 18, 38, 26, 27, 88, 38, 70, 26, 23, 51, 28,\n",
       "       83, 47, 84, 28, 29, 73, 79, 56, 20, 39, 74, 56, 33, 64, 37, 26, 60,\n",
       "       53, 44, 67, 47, 20, 31, 48, 59, 59, 27, 34, 50, 84, 75, 40, 20, 48,\n",
       "       45, 38, 41, 46, 79, 76, 83, 52, 81, 73, 53, 68, 58, 37, 71, 75, 56,\n",
       "       33, 88, 20, 45, 39, 61, 79, 87, 74, 84, 39, 35, 46, 82, 61, 42, 75,\n",
       "       74, 43, 27, 75, 31, 44, 49, 18, 22, 29, 41, 60, 22, 73, 27, 76, 76,\n",
       "       70, 22, 28, 62, 41, 32, 86, 35, 21, 55, 85, 73, 26, 42, 24, 22, 48,\n",
       "       65, 23, 84, 50, 67, 84, 19, 20, 62, 22, 67, 58, 58, 44, 63, 30, 71,\n",
       "       50, 79, 25, 30, 36, 84, 36, 76, 69, 72, 35, 34, 70, 18, 51, 76, 55,\n",
       "       40, 87, 61, 40, 52, 61, 67, 29, 28, 49, 71, 30, 19, 50, 62, 76, 67,\n",
       "       59, 50, 35, 63, 57, 46, 87, 24, 22, 55, 37, 18, 51, 88, 27, 52, 25,\n",
       "       83, 36, 32, 38, 64, 53, 47, 67, 57, 31, 29, 74, 20, 79, 64, 24, 85,\n",
       "       50, 34, 51, 25, 85, 78, 70, 73, 53, 77, 51, 68, 34, 50, 86, 75, 85,\n",
       "       21, 73, 67, 82, 61, 89, 48, 30, 55, 85, 24, 68, 53, 69, 25, 35, 39,\n",
       "       63, 31, 60, 43, 63, 20, 23, 22, 18, 53, 49, 89, 81, 25, 55, 79, 79,\n",
       "       73, 46, 65, 40, 66, 60, 67, 32, 28, 47, 86, 69, 74, 56, 37, 62, 39,\n",
       "       86, 51, 77, 74, 45, 69, 64, 22, 36, 87, 43, 63, 59, 26, 27, 63, 70,\n",
       "       72, 27, 75, 71, 49, 61, 50, 87, 76, 57, 25, 50, 80, 33, 69, 66, 77,\n",
       "       50, 25, 87, 61, 42, 29, 46, 72, 22, 29, 48, 29, 38, 24, 51, 77, 46,\n",
       "       87, 74, 50, 87, 26, 71, 40, 87, 33, 55, 89, 24, 75, 77, 49, 42, 56,\n",
       "       38, 59, 78, 84, 52, 75, 36, 60, 88, 35, 37, 84, 37, 50, 26, 32, 65,\n",
       "       58, 48, 87, 59, 37, 63, 34])"
      ]
     },
     "execution_count": 14,
     "metadata": {},
     "output_type": "execute_result"
    }
   ],
   "source": [
    "ages = np.random.randint(18, high=90, size=500)\n",
    "ages"
   ]
  },
  {
   "cell_type": "code",
   "execution_count": 15,
   "metadata": {},
   "outputs": [
    {
     "data": {
      "text/plain": [
       "ModeResult(mode=array([50]), count=array([15]))"
      ]
     },
     "execution_count": 15,
     "metadata": {},
     "output_type": "execute_result"
    }
   ],
   "source": [
    "from scipy import stats\n",
    "stats.mode(ages)"
   ]
  },
  {
   "cell_type": "code",
   "execution_count": null,
   "metadata": {},
   "outputs": [],
   "source": []
  }
 ],
 "metadata": {
  "kernelspec": {
   "display_name": "tensorflow_kernel",
   "language": "python",
   "name": "tensorflow_kernel"
  },
  "language_info": {
   "codemirror_mode": {
    "name": "ipython",
    "version": 3
   },
   "file_extension": ".py",
   "mimetype": "text/x-python",
   "name": "python",
   "nbconvert_exporter": "python",
   "pygments_lexer": "ipython3",
   "version": "3.8.0"
  }
 },
 "nbformat": 4,
 "nbformat_minor": 1
}
